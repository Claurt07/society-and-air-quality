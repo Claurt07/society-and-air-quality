{
 "nbformat": 4,
 "nbformat_minor": 2,
 "metadata": {
  "language_info": {
   "name": "python",
   "codemirror_mode": {
    "name": "ipython",
    "version": 3
   },
   "version": "3.7.3-final"
  },
  "orig_nbformat": 2,
  "file_extension": ".py",
  "mimetype": "text/x-python",
  "name": "python",
  "npconvert_exporter": "python",
  "pygments_lexer": "ipython3",
  "version": 3,
  "kernelspec": {
   "name": "python37364bitbasecondaf27aaa050e704f43ae091095d47d004c",
   "display_name": "Python 3.7.3 64-bit ('base': conda)"
  }
 },
 "cells": [
  {
   "cell_type": "markdown",
   "metadata": {},
   "source": [
    "# 4. ACS Data"
   ]
  },
  {
   "cell_type": "markdown",
   "metadata": {},
   "source": [
    "EPA data is collected, so now we have to compile the ACS data!"
   ]
  },
  {
   "cell_type": "code",
   "execution_count": 1,
   "metadata": {},
   "outputs": [
    {
     "output_type": "stream",
     "name": "stdout",
     "text": "env: GOOGLE_APPLICATION_CREDENTIALS=../google_app_credentials.json\n"
    }
   ],
   "source": [
    "# set up path to app credentials - see exploration/README.md\n",
    "%env GOOGLE_APPLICATION_CREDENTIALS=../google_app_credentials.json\n",
    "\n",
    "# set up bigquery client\n",
    "from google.cloud import bigquery\n",
    "bq = bigquery.Client()"
   ]
  },
  {
   "cell_type": "code",
   "execution_count": 2,
   "metadata": {},
   "outputs": [],
   "source": [
    "# set up some dependencies\n",
    "import json, time, random, csv\n",
    "import pandas as pd\n",
    "import matplotlib.pyplot as plt"
   ]
  },
  {
   "cell_type": "code",
   "execution_count": 3,
   "metadata": {},
   "outputs": [],
   "source": [
    "resp = bq.query('''\n",
    "    SELECT DISTINCT do_date AS year\n",
    "    FROM `eosc410-project.data.acs_cbsa_20*`\n",
    "    ORDER BY do_date ASC\n",
    "''')\n",
    "years = [row[\"year\"] for row in resp]"
   ]
  },
  {
   "cell_type": "markdown",
   "metadata": {},
   "source": [
    "## Selecting Metrics for Assessing Societal Changes\n",
    "\n",
    "The ACS survey collects a large collection of metrics for each GeoID (in this case, of CBSA regions). We're interested in fields described in the query below."
   ]
  },
  {
   "cell_type": "code",
   "execution_count": 4,
   "metadata": {},
   "outputs": [],
   "source": [
    "resp = bq.query('''\n",
    "    SELECT\n",
    "        geo_id AS geoid,\n",
    "        do_date AS year,\n",
    "        \n",
    "        # population\n",
    "        total_pop,\n",
    "        median_age,\n",
    "        nonfamily_households,\n",
    "        family_households,\n",
    "        \n",
    "        # education\n",
    "        high_school_including_ged,\n",
    "        graduate_professional_degree,\n",
    "        some_college_and_associates_degree,\n",
    "\n",
    "        # infrastructure and housing\n",
    "        housing_units,\n",
    "        occupied_housing_units,\n",
    "        2018-CAST(median_year_structure_built AS INT64) AS median_structure_age,\n",
    "        dwellings_1_units_detached + dwellings_1_units_attached + dwellings_2_units + dwellings_3_to_4_units AS dwellings_under_4_units,\n",
    "        dwellings_5_to_9_units + dwellings_10_to_19_units AS dwellings_5_to_19_units,\n",
    "        dwellings_20_to_49_units,\n",
    "        dwellings_50_or_more_units,\n",
    "\n",
    "        # commute\n",
    "        walked_to_work,\n",
    "        commuters_by_public_transportation,\n",
    "        commuters_by_car_truck_van,\n",
    "        commute_less_10_mins + commute_5_9_mins AS commute_under_10_mins,\n",
    "        commute_10_14_mins + commute_15_19_mins + commute_20_24_mins + commute_25_29_mins AS commute_10_29_mins,\n",
    "        # 2013- has different buckets\n",
    "        commute_30_34_mins + commute_35_39_mins + commute_35_44_mins + commute_40_44_mins + commute_45_59_mins AS commute_30_59_mins,\n",
    "        commute_60_more_mins + commute_60_89_mins + commute_90_more_mins AS commute_over_60_mins,\n",
    "\n",
    "        # economic\n",
    "        income_per_capita,\n",
    "        gini_index, # 0 to 1, with 0 being perfect income equality\n",
    "        poverty, # number of people in poverty\n",
    "        rent_over_50_percent,\n",
    "        rent_40_to_50_percent + rent_35_to_40_percent + rent_30_to_35_percent + rent_20_to_25_percent AS rent_25_to_50_percent,\n",
    "        rent_15_to_20_percent + rent_10_to_15_percent + rent_under_10_percent AS rent_under_25_percent,\n",
    "        median_rent,\n",
    "    FROM `eosc410-project.data.acs_cbsa_20*`\n",
    "    ORDER BY year\n",
    "''')\n",
    "data = resp.to_dataframe()"
   ]
  },
  {
   "cell_type": "code",
   "execution_count": 6,
   "metadata": {},
   "outputs": [
    {
     "output_type": "stream",
     "name": "stdout",
     "text": "geoid  year   total_pop  median_age  nonfamily_households  \\\n0     16820  2007    193336.0        35.2               29989.0   \n1     12220  2007    130516.0        28.8               22784.0   \n2     37900  2007    369721.0        37.5               49897.0   \n3     40060  2007   1211608.0        37.1              155939.0   \n4     22180  2007    348940.0        32.8               38351.0   \n...     ...   ...         ...         ...                   ...   \n6194  31080  2018  13291486.0        37.1             1425767.0   \n6195  42660  2018   3939363.0        37.0              555278.0   \n6196  14460  2018   4875390.0        38.8              691687.0   \n6197  41860  2018   4729484.0        39.1              603802.0   \n6198  37980  2018   6096372.0        38.8              811592.0   \n\n      family_households  high_school_including_ged  \\\n0               47691.0                    30909.0   \n1               32951.0                    18196.0   \n2               98581.0                    79943.0   \n3              313105.0                   237358.0   \n4               91107.0                    64660.0   \n...                 ...                        ...   \n6194          2928535.0                  1810764.0   \n6195           970932.0                   530239.0   \n6196          1156111.0                   721516.0   \n6197          1095176.0                   537633.0   \n6198          1474059.0                  1236248.0   \n\n      graduate_professional_degree  some_college_and_associates_degree  \\\n0                          23509.0                             23748.0   \n1                           9919.0                             19381.0   \n2                          17922.0                             78321.0   \n3                          86909.0                            207939.0   \n4                          13734.0                             80030.0   \n...                            ...                                 ...   \n6194                     1102732.0                           2436574.0   \n6195                      465479.0                            835499.0   \n6196                      776451.0                            732469.0   \n6197                      724789.0                            803220.0   \n6198                      660943.0                           1005020.0   \n\n      housing_units  ...  commute_10_29_mins  commute_30_59_mins  \\\n0           87307.0  ...             47812.0                 NaN   \n1           61045.0  ...             34328.0                 NaN   \n2          162366.0  ...             99110.0                 NaN   \n3          511135.0  ...            320735.0            192708.0   \n4          150916.0  ...             89002.0                 NaN   \n...             ...  ...                 ...                 ...   \n6194      4672663.0  ...           2606410.0           2713260.0   \n6195      1617428.0  ...            808084.0            898272.0   \n6196      1973416.0  ...            957924.0           1135427.0   \n6197      1825205.0  ...            889385.0           1010676.0   \n6198      2497446.0  ...           1220286.0           1253414.0   \n\n      commute_over_60_mins  income_per_capita  gini_index    poverty  \\\n0                      NaN            29142.0      0.4490    24576.0   \n1                      NaN            22292.0      0.4570    22074.0   \n2                      NaN            26177.0      0.4370    36049.0   \n3                  59274.0            28889.0      0.4340   121425.0   \n4                      NaN            20644.0      0.4330    55421.0   \n...                    ...                ...         ...        ...   \n6194             1683884.0            35938.0      0.4967  1736592.0   \n6195              506132.0            46204.0      0.4532   338257.0   \n6196              739500.0            47358.0      0.4856   433504.0   \n6197              837650.0            56393.0      0.4847   388670.0   \n6198              667394.0            38404.0      0.4862   731023.0   \n\n      rent_over_50_percent  rent_25_to_50_percent  rent_under_25_percent  \\\n0                   6714.0                 7371.0                 6623.0   \n1                   5199.0                 6909.0                 5432.0   \n2                   9479.0                12478.0                11232.0   \n3                  28463.0                60237.0                31691.0   \n4                  11078.0                17196.0                11975.0   \n...                    ...                    ...                    ...   \n6194              637960.0               838756.0               424107.0   \n6195              131476.0               232836.0               149907.0   \n6196              168230.0               261448.0               165625.0   \n6197              168242.0               265200.0               214116.0   \n6198              202480.0               251667.0               184710.0   \n\n      median_rent  \n0           784.0  \n1           477.0  \n2           488.0  \n3           689.0  \n4           578.0  \n...           ...  \n6194       1460.0  \n6195       1428.0  \n6196       1352.0  \n6197       1859.0  \n6198        971.0  \n\n[6199 rows x 30 columns]\n"
    }
   ],
   "source": [
    "print(data)\n",
    "data.to_csv('../docs/_data/acs/raw.csv')"
   ]
  },
  {
   "cell_type": "markdown",
   "metadata": {},
   "source": [
    "Now we organize this data into a formats similar to that of our aggregated EPA data."
   ]
  },
  {
   "cell_type": "code",
   "execution_count": 7,
   "metadata": {
    "tags": [
     "outputPrepend",
     "outputPrepend",
     "outputPrepend",
     "outputPrepend",
     "outputPrepend",
     "outputPrepend",
     "outputPrepend",
     "outputPrepend",
     "outputPrepend",
     "outputPrepend",
     "outputPrepend",
     "outputPrepend",
     "outputPrepend",
     "outputPrepend",
     "outputPrepend",
     "outputPrepend",
     "outputPrepend",
     "outputPrepend",
     "outputPrepend",
     "outputPrepend",
     "outputPrepend",
     "outputPrepend",
     "outputPrepend",
     "outputPrepend",
     "outputPrepend",
     "outputPrepend",
     "outputPrepend",
     "outputPrepend",
     "outputPrepend"
    ]
   },
   "outputs": [
    {
     "output_type": "stream",
     "name": "stdout",
     "text": "2007: processing\n2008: processing\n2009: processing\n2010: processing\n2011: processing\n2012: processing\n2013: processing\n2014: processing\n2015: processing\n2016: processing\n2017: processing\n2018: processing\nexporting...\ndone\n"
    }
   ],
   "source": [
    "timeseries_flat = pd.DataFrame()\n",
    "for y in years:\n",
    "    print('%s: processing' % y)\n",
    "\n",
    "    # load data\n",
    "    ms = data[data.year == y]\n",
    "\n",
    "    # setup\n",
    "    flat_row = {'year': y}\n",
    "\n",
    "    # for each record, add each column as a feature or add each column as a row\n",
    "    for index, row in ms.iterrows():\n",
    "        geoid = row['geoid']\n",
    "        for col in ms:\n",
    "            if col in ['geoid', 'year']:\n",
    "                continue\n",
    "            combined_id = '%s.acs.%s' % (geoid, col)\n",
    "            val = ms.loc[index][col]\n",
    "            flat_row[combined_id] = val\n",
    "\n",
    "    # each row is a year of data\n",
    "    timeseries_flat = timeseries_flat.append(flat_row, ignore_index=True)\n",
    "\n",
    "print('exporting...')\n",
    "timeseries_flat.to_csv('../docs/_data/acs/timeseries_flat.csv')\n",
    "print('done')"
   ]
  },
  {
   "cell_type": "code",
   "execution_count": 9,
   "metadata": {},
   "outputs": [
    {
     "output_type": "stream",
     "name": "stdout",
     "text": "exporting...\ndone\n"
    }
   ],
   "source": [
    "timeseries_vert = pd.DataFrame(columns=['combined_id'])\n",
    "for geoid in data['geoid'].unique():\n",
    "    # load data\n",
    "    ms = data[data.geoid == geoid]\n",
    "\n",
    "    # add columns each feature, spanning all years\n",
    "    for col in ms:\n",
    "        if col in ['geoid', 'year']:\n",
    "            continue\n",
    "        combined_id = '%s.acs.%s' % (geoid, col)\n",
    "        vert_cols = {'combined_id':combined_id}\n",
    "\n",
    "        # for each year, append a columns\n",
    "        vals = ms[col]\n",
    "        for y in years:\n",
    "            vals = ms[ms.year == y][col]\n",
    "            if len(vals) > 0:\n",
    "                vert_cols[y] = vals.iloc[0]\n",
    "        timeseries_vert = timeseries_vert.append(vert_cols, ignore_index=True)\n",
    "\n",
    "print('exporting...')\n",
    "timeseries_vert.to_csv('../docs/_data/acs/timeseries_vert.csv')\n",
    "print('done')"
   ]
  },
  {
   "cell_type": "code",
   "execution_count": 8,
   "metadata": {},
   "outputs": [
    {
     "output_type": "stream",
     "name": "stdout",
     "text": "exporting...\ndone\n"
    }
   ],
   "source": [
    "timeseries_vert_alt = pd.DataFrame(columns=['geoid'])\n",
    "for geoid in data['geoid'].unique():\n",
    "    # load data\n",
    "    ms = data[data.geoid == geoid]\n",
    "\n",
    "    # add columns for each feature, spanning all years,\n",
    "    # so each column is 'year.measurement'\n",
    "    vert_cols = {'geoid':str(geoid)}\n",
    "    for col in ms:\n",
    "        if col in ['geoid', 'year']:\n",
    "            continue\n",
    "\n",
    "        # for each year, append a column\n",
    "        vals = ms[col]\n",
    "        for y in years:\n",
    "            vals = ms[ms.year == y][col]\n",
    "            if len(vals) > 0:\n",
    "                vert_cols['%s.%s' % (y, col)] = vals.iloc[0]\n",
    "    timeseries_vert_alt = timeseries_vert_alt.append(vert_cols, ignore_index=True)\n",
    "\n",
    "print('exporting...')\n",
    "timeseries_vert_alt.to_csv('../docs/_data/acs/timeseries_vert_alt.csv')\n",
    "print('done')"
   ]
  },
  {
   "cell_type": "code",
   "execution_count": null,
   "metadata": {},
   "outputs": [],
   "source": []
  }
 ]
}