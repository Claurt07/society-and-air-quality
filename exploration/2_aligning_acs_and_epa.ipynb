{
 "nbformat": 4,
 "nbformat_minor": 2,
 "metadata": {
  "language_info": {
   "name": "python",
   "codemirror_mode": {
    "name": "ipython",
    "version": 3
   },
   "version": "3.7.4-final"
  },
  "orig_nbformat": 2,
  "file_extension": ".py",
  "mimetype": "text/x-python",
  "name": "python",
  "npconvert_exporter": "python",
  "pygments_lexer": "ipython3",
  "version": 3,
  "kernelspec": {
   "name": "python37464bitanaconda3virtualenv214083d9e99e48dbbb65188af8bf868a",
   "display_name": "Python 3.7.4 64-bit ('anaconda3': virtualenv)"
  }
 },
 "cells": [
  {
   "cell_type": "markdown",
   "metadata": {},
   "source": [
    "# 2. Aligning ACS and EPA Data"
   ]
  },
  {
   "cell_type": "markdown",
   "metadata": {},
   "source": [
    "Our historical air quality data from the EPA is provided station by station, and the positions of each station is provided by coordinates. To make useful comparisons, we want to align the data - decide for each year which exact air quality data points align with each CBSA GeoID/region in ACS.\n",
    "\n",
    "We'll refer to these as `epa_point` and `acs_region` respectively."
   ]
  },
  {
   "cell_type": "code",
   "execution_count": 2,
   "metadata": {},
   "outputs": [
    {
     "output_type": "stream",
     "name": "stdout",
     "text": "env: GOOGLE_APPLICATION_CREDENTIALS=../google_app_credentials.json\n"
    }
   ],
   "source": [
    "# set up path to app credentials - see exploration/README.md\n",
    "%env GOOGLE_APPLICATION_CREDENTIALS=../google_app_credentials.json\n",
    "\n",
    "# set up bigquery client\n",
    "from google.cloud import bigquery\n",
    "bq = bigquery.Client()"
   ]
  },
  {
   "cell_type": "code",
   "execution_count": 21,
   "metadata": {},
   "outputs": [],
   "source": [
    "# set up some dependencies\n",
    "import geopandas as gp\n",
    "import json"
   ]
  },
  {
   "cell_type": "markdown",
   "metadata": {},
   "source": [
    "First we'll load up the relevant data, which should already be set up."
   ]
  },
  {
   "cell_type": "code",
   "execution_count": 10,
   "metadata": {
    "tags": [
     "outputPrepend",
     "outputPrepend",
     "outputPrepend",
     "outputPrepend",
     "outputPrepend"
    ]
   },
   "outputs": [
    {
     "output_type": "stream",
     "name": "stdout",
     "text": "3                            Kingston, NY Metro Area   M1    1  G3110   \n4                             Astoria, OR Micro Area   M2    2  G3110   \n..                                               ...  ...  ...    ...   \n950  Riverside-San Bernardino-Ontario, CA Metro Area   M1    1  G3110   \n951  Los Angeles-Long Beach-Santa Ana, CA Metro Area   M1    1  G3110   \n952                           Redding, CA Metro Area   M1    1  G3110   \n953                          Show Low, AZ Micro Area   M2    2  G3110   \n954                          Danville, IL Metro Area   M1    1  G3110   \n\n           ALAND      AWATER     INTPTLAT      INTPTLON  \\\n0    10433603617  2739477738  +19.5977643  -155.5024434   \n1     6740993584    76055435  +45.5355586  -111.1734431   \n2     1984070931     1809509  +33.2230377  -093.2328433   \n3     2911755313    94599649  +41.9472156  -074.2654583   \n4     2147298720   661241625  +46.0245092  -123.7050140   \n..           ...         ...          ...           ...   \n950  70612249326   374874423  +34.5375344  -116.1309212   \n951  12558101855  2202606674  +34.1090244  -118.1825492   \n952   9778182364   186530150  +40.7605215  -122.0435495   \n953  25771507428    24078082  +35.3909336  -110.3209076   \n954   2326763515     7534496  +40.1867398  -087.7267715   \n\n                                              geometry  \n0    POLYGON ((-155.96346 19.08207, -155.96649 19.0...  \n1    POLYGON ((-111.37261 45.08060, -111.37261 45.0...  \n2    POLYGON ((-93.49052 33.01846, -93.49052 33.018...  \n3    POLYGON ((-74.13451 41.61569, -74.13347 41.611...  \n4    POLYGON ((-124.00807 46.01053, -124.00791 46.0...  \n..                                                 ...  \n950  POLYGON ((-117.36427 33.50502, -117.36659 33.5...  \n951  MULTIPOLYGON (((-117.78329 33.94641, -117.7830...  \n952  POLYGON ((-122.07282 41.18310, -122.07243 41.1...  \n953  POLYGON ((-110.75068 34.27560, -110.75068 34.2...  \n954  POLYGON ((-87.52801 40.38851, -87.52804 40.386...  \n\n[955 rows x 13 columns]\n=> loading 2013\nloaded 2013\n    CSAFP CBSAFP  GEOID              NAME                     NAMELSAD LSAD  \\\n0     462  40340  40340     Rochester, MN     Rochester, MN Metro Area   M1   \n1     450  39580  39580       Raleigh, NC       Raleigh, NC Metro Area   M1   \n2     452  39660  39660    Rapid City, SD    Rapid City, SD Metro Area   M1   \n3     464  40380  40380     Rochester, NY     Rochester, NY Metro Area   M1   \n4     154  39700  39700  Raymondville, TX  Raymondville, TX Micro Area   M2   \n..    ...    ...    ...               ...                          ...  ...   \n924   212  19380  19380        Dayton, OH        Dayton, OH Metro Area   M1   \n925   174  19420  19420        Dayton, TN        Dayton, TN Micro Area   M2   \n926   290  19460  19460       Decatur, AL       Decatur, AL Metro Area   M1   \n927        19500  19500       Decatur, IL       Decatur, IL Metro Area   M1   \n928   258  19540  19540       Decatur, IN       Decatur, IN Micro Area   M2   \n\n    MEMI  MTFCC        ALAND      AWATER     INTPTLAT      INTPTLON  \\\n0      1  G3110   6415950878    74793561  +43.9499166  -092.3356986   \n1      1  G3110   5486334833    75209779  +35.7567464  -078.4604412   \n2      1  G3110  20213817245    56156476  +44.1951082  -102.9166120   \n3      1  G3110   8459599412  5126898044  +43.1480380  -077.5232575   \n4      2  G3110   1529529770   501714610  +26.4803815  -097.5832559   \n..   ...    ...          ...         ...          ...           ...   \n924    1  G3110   3320017100    21705336  +39.8288538  -084.1418129   \n925    2  G3110    816822921    54463447  +35.6005870  -084.9495522   \n926    1  G3110   3289382814   119693416  +34.4893614  -087.0971469   \n927    1  G3110   1503973612    13409460  +39.8602372  -088.9615288   \n928    2  G3110    878078763     2430677  +40.7457327  -084.9361305   \n\n                                              geometry  \n0    POLYGON ((-92.63473 44.19538, -92.63454 44.195...  \n1    POLYGON ((-78.70863 35.51908, -78.71226 35.520...  \n2    POLYGON ((-103.56847 44.14068, -103.56845 44.1...  \n3    POLYGON ((-77.95535 42.81052, -77.95529 42.811...  \n4    POLYGON ((-97.86187 26.34835, -97.86187 26.353...  \n..                                                 ...  \n924  POLYGON ((-84.05104 39.87981, -84.05104 39.879...  \n925  POLYGON ((-85.08712 35.58765, -85.08648 35.588...  \n926  POLYGON ((-87.33397 34.30014, -87.33638 34.300...  \n927  POLYGON ((-88.92109 39.65268, -88.92130 39.652...  \n928  POLYGON ((-84.88102 40.92065, -84.87884 40.920...  \n\n[929 rows x 13 columns]\n=> loading 2014\nloaded 2014\n    CSAFP CBSAFP  GEOID              NAME                     NAMELSAD LSAD  \\\n0     462  40340  40340     Rochester, MN     Rochester, MN Metro Area   M1   \n1     450  39580  39580       Raleigh, NC       Raleigh, NC Metro Area   M1   \n2     452  39660  39660    Rapid City, SD    Rapid City, SD Metro Area   M1   \n3     464  40380  40380     Rochester, NY     Rochester, NY Metro Area   M1   \n4     154  39700  39700  Raymondville, TX  Raymondville, TX Micro Area   M2   \n..    ...    ...    ...               ...                          ...  ...   \n924   212  19380  19380        Dayton, OH        Dayton, OH Metro Area   M1   \n925   174  19420  19420        Dayton, TN        Dayton, TN Micro Area   M2   \n926   290  19460  19460       Decatur, AL       Decatur, AL Metro Area   M1   \n927        19500  19500       Decatur, IL       Decatur, IL Metro Area   M1   \n928   258  19540  19540       Decatur, IN       Decatur, IN Micro Area   M2   \n\n    MEMI  MTFCC        ALAND      AWATER     INTPTLAT      INTPTLON  \\\n0      1  G3110   6415950877    74793561  +43.9499166  -092.3356986   \n1      1  G3110   5485830159    75714450  +35.7567464  -078.4604412   \n2      1  G3110  20213830425    56143301  +44.1951082  -102.9166120   \n3      1  G3110   8459596944  5126900516  +43.1480380  -077.5232575   \n4      2  G3110   1529529770   501714610  +26.4803815  -097.5832559   \n..   ...    ...          ...         ...          ...           ...   \n924    1  G3110   3320017107    21705311  +39.8288538  -084.1418129   \n925    2  G3110    816822919    54463447  +35.6005870  -084.9495522   \n926    1  G3110   3289382814   119693416  +34.4893614  -087.0971469   \n927    1  G3110   1503973613    13409460  +39.8602372  -088.9615288   \n928    2  G3110    878078763     2430677  +40.7457327  -084.9361305   \n\n                                              geometry  \n0    POLYGON ((-92.67872 44.19552, -92.67852 44.195...  \n1    POLYGON ((-78.54650 36.02180, -78.54649 36.022...  \n2    POLYGON ((-103.45245 44.14077, -103.45247 44.1...  \n3    POLYGON ((-77.99729 43.13298, -77.99974 43.132...  \n4    POLYGON ((-97.87238 26.43353, -97.87528 26.433...  \n..                                                 ...  \n924  POLYGON ((-84.42590 39.91962, -84.42592 39.921...  \n925  POLYGON ((-84.94446 35.73096, -84.94444 35.731...  \n926  POLYGON ((-87.10507 34.68604, -87.10411 34.685...  \n927  POLYGON ((-89.14182 39.80091, -89.14185 39.800...  \n928  POLYGON ((-85.07220 40.83091, -85.07226 40.830...  \n\n[929 rows x 13 columns]\n=> loading 2015\nloaded 2015\n    CSAFP CBSAFP  GEOID                                  NAME  \\\n0     336  40080  40080                    Richmond-Berea, KY   \n1     454  39780  39780                         Red Bluff, CA   \n2     454  39820  39820                           Redding, CA   \n3     456  39900  39900                              Reno, NV   \n4     348  40140  40140  Riverside-San Bernardino-Ontario, CA   \n..    ...    ...    ...                                   ...   \n924        12620  12620                            Bangor, ME   \n925        27580  27580                            Jayuya, PR   \n926   434  17620  17620                             Coamo, PR   \n927   490  17640  17640                              Coco, PR   \n928        11020  11020                           Altoona, PA   \n\n                                            NAMELSAD LSAD MEMI  MTFCC  \\\n0                      Richmond-Berea, KY Micro Area   M2    2  G3110   \n1                           Red Bluff, CA Micro Area   M2    2  G3110   \n2                             Redding, CA Metro Area   M1    1  G3110   \n3                                Reno, NV Metro Area   M1    1  G3110   \n4    Riverside-San Bernardino-Ontario, CA Metro Area   M1    1  G3110   \n..                                               ...  ...  ...    ...   \n924                            Bangor, ME Metro Area   M1    1  G3110   \n925                            Jayuya, PR Micro Area   M2    2  G3110   \n926                             Coamo, PR Micro Area   M2    2  G3110   \n927                              Coco, PR Micro Area   M2    2  G3110   \n928                           Altoona, PA Metro Area   M1    1  G3110   \n\n           ALAND     AWATER     INTPTLAT      INTPTLON  \\\n0     1952453473   19442078  +37.5716804  -084.2962641   \n1     7639716445   32276063  +40.1261561  -122.2322757   \n2     9778188572  186530168  +40.7605142  -122.0435556   \n3    17004051224  623033216  +40.5007953  -119.7311608   \n4    70612017093  374752982  +34.5375344  -116.1309212   \n..           ...        ...          ...           ...   \n924   8799074164  413603851  +45.4092789  -068.6665979   \n925    115340552       3091  +18.2111522  -066.5868700   \n926    202052316      38061  +18.1037997  -066.3575862   \n927    179660999  115910576  +17.9714853  -066.2622515   \n928   1361815246    3285511  +40.4979217  -078.3106362   \n\n                                              geometry  \n0    POLYGON ((-84.34780 37.53906, -84.34797 37.539...  \n1    POLYGON ((-122.37148 40.37261, -122.37046 40.3...  \n2    POLYGON ((-122.61527 40.88107, -122.61473 40.8...  \n3    POLYGON ((-119.28364 39.62156, -119.28574 39.6...  \n4    POLYGON ((-117.67375 33.87083, -117.67394 33.8...  \n..                                                 ...  \n924  POLYGON ((-68.82542 45.42055, -68.82556 45.421...  \n925  POLYGON ((-66.62843 18.21430, -66.62841 18.214...  \n926  POLYGON ((-66.42347 18.13240, -66.42346 18.132...  \n927  POLYGON ((-66.28481 18.05972, -66.28381 18.061...  \n928  POLYGON ((-78.54201 40.46965, -78.54200 40.469...  \n\n[929 rows x 13 columns]\n=> loading 2016\nloaded 2016\n    CSAFP CBSAFP  GEOID              NAME                     NAMELSAD LSAD  \\\n0     462  40340  40340     Rochester, MN     Rochester, MN Metro Area   M1   \n1     450  39580  39580       Raleigh, NC       Raleigh, NC Metro Area   M1   \n2     452  39660  39660    Rapid City, SD    Rapid City, SD Metro Area   M1   \n3     464  40380  40380     Rochester, NY     Rochester, NY Metro Area   M1   \n4     154  39700  39700  Raymondville, TX  Raymondville, TX Micro Area   M2   \n..    ...    ...    ...               ...                          ...  ...   \n940   324  27660  27660      Jennings, LA      Jennings, LA Micro Area   M2   \n941   423  37800  37800         Pella, IA         Pella, IA Micro Area   M2   \n942        40760  40760       Ruidoso, NM       Ruidoso, NM Micro Area   M2   \n943        41260  41260     St. Marys, PA     St. Marys, PA Micro Area   M2   \n944   200  48500  48500    West Point, MS    West Point, MS Micro Area   M2   \n\n    MEMI  MTFCC        ALAND      AWATER     INTPTLAT      INTPTLON  \\\n0      1  G3110   6415885141    74843100  +43.9499166  -092.3356986   \n1      1  G3110   5485095633    76934776  +35.7567464  -078.4604412   \n2      1  G3110  20213646512    56141354  +44.1951082  -102.9166120   \n3      1  G3110   8459593078  5126848930  +43.1480380  -077.5232575   \n4      2  G3110   1529611927   501715022  +26.4803815  -097.5832561   \n..   ...    ...          ...         ...          ...           ...   \n940    2  G3110   1687025362    18718206  +30.2695293  -092.8162205   \n941    2  G3110   1436124183    41487001  +41.3314552  -093.0938490   \n942    2  G3110  12512530131      554701  +33.7409407  -105.4490834   \n943    2  G3110   2142856032    12818644  +41.4273339  -078.6539383   \n944    2  G3110   1062066012    15393112  +33.6617328  -088.7833259   \n\n                                              geometry  \n0    POLYGON ((-92.55087 44.19492, -92.55087 44.195...  \n1    POLYGON ((-78.54641 36.02183, -78.54641 36.022...  \n2    POLYGON ((-103.45245 44.14077, -103.45247 44.1...  \n3    POLYGON ((-77.99729 43.13298, -77.99974 43.132...  \n4    POLYGON ((-97.87238 26.43353, -97.87528 26.433...  \n..                                                 ...  \n940  POLYGON ((-93.03074 30.27521, -93.03074 30.276...  \n941  POLYGON ((-93.32836 41.33487, -93.32835 41.339...  \n942  POLYGON ((-105.92550 33.93948, -105.92552 33.9...  \n943  POLYGON ((-78.95899 41.45269, -78.95899 41.452...  \n944  POLYGON ((-88.93160 33.75431, -88.93159 33.756...  \n\n[945 rows x 13 columns]\n=> loading 2017\nloaded 2017\n    CSAFP CBSAFP  GEOID              NAME                     NAMELSAD LSAD  \\\n0     462  40340  40340     Rochester, MN     Rochester, MN Metro Area   M1   \n1     450  39580  39580       Raleigh, NC       Raleigh, NC Metro Area   M1   \n2     452  39660  39660    Rapid City, SD    Rapid City, SD Metro Area   M1   \n3     464  40380  40380     Rochester, NY     Rochester, NY Metro Area   M1   \n4     154  39700  39700  Raymondville, TX  Raymondville, TX Micro Area   M2   \n..    ...    ...    ...               ...                          ...  ...   \n940   324  27660  27660      Jennings, LA      Jennings, LA Micro Area   M2   \n941   423  37800  37800         Pella, IA         Pella, IA Micro Area   M2   \n942        40760  40760       Ruidoso, NM       Ruidoso, NM Micro Area   M2   \n943        41260  41260     St. Marys, PA     St. Marys, PA Micro Area   M2   \n944   200  48500  48500    West Point, MS    West Point, MS Micro Area   M2   \n\n    MEMI  MTFCC        ALAND      AWATER     INTPTLAT      INTPTLON  \\\n0      1  G3110   6415412346    75315930  +43.9499166  -092.3356986   \n1      1  G3110   5485063049    76967367  +35.7567464  -078.4604412   \n2      1  G3110  20213988388    56100766  +44.1951082  -102.9166120   \n3      1  G3110   8459578202  5126863798  +43.1480380  -077.5232575   \n4      2  G3110   1529611927   501715022  +26.4803815  -097.5832561   \n..   ...    ...          ...         ...          ...           ...   \n940    2  G3110   1687025362    18718206  +30.2695293  -092.8162205   \n941    2  G3110   1436124182    41487001  +41.3314552  -093.0938490   \n942    2  G3110  12512530204      554703  +33.7408411  -105.4498055   \n943    2  G3110   2142856032    12818644  +41.4273339  -078.6539383   \n944    2  G3110   1062066012    15393112  +33.6617328  -088.7833259   \n\n                                              geometry  \n0    POLYGON ((-92.67872 44.19552, -92.67852 44.195...  \n1    POLYGON ((-78.54641 36.02183, -78.54641 36.022...  \n2    POLYGON ((-103.45245 44.14077, -103.45247 44.1...  \n3    POLYGON ((-77.99729 43.13298, -77.99974 43.132...  \n4    POLYGON ((-97.87238 26.43353, -97.87528 26.433...  \n..                                                 ...  \n940  POLYGON ((-93.03074 30.27521, -93.03074 30.276...  \n941  POLYGON ((-93.32836 41.33487, -93.32835 41.339...  \n942  POLYGON ((-105.92550 33.93948, -105.92552 33.9...  \n943  POLYGON ((-78.95899 41.45269, -78.95899 41.452...  \n944  POLYGON ((-88.93160 33.75431, -88.93159 33.756...  \n\n[945 rows x 13 columns]\n=> loading 2018\nloaded 2018\n    CSAFP CBSAFP  GEOID              NAME                     NAMELSAD LSAD  \\\n0     462  40340  40340     Rochester, MN     Rochester, MN Metro Area   M1   \n1     450  39580  39580       Raleigh, NC       Raleigh, NC Metro Area   M1   \n2     452  39660  39660    Rapid City, SD    Rapid City, SD Metro Area   M1   \n3     464  40380  40380     Rochester, NY     Rochester, NY Metro Area   M1   \n4     154  39700  39700  Raymondville, TX  Raymondville, TX Micro Area   M2   \n..    ...    ...    ...               ...                          ...  ...   \n940   324  27660  27660      Jennings, LA      Jennings, LA Micro Area   M2   \n941   423  37800  37800         Pella, IA         Pella, IA Micro Area   M2   \n942        40760  40760       Ruidoso, NM       Ruidoso, NM Micro Area   M2   \n943        41260  41260     St. Marys, PA     St. Marys, PA Micro Area   M2   \n944   200  48500  48500    West Point, MS    West Point, MS Micro Area   M2   \n\n    MEMI  MTFCC        ALAND      AWATER     INTPTLAT      INTPTLON  \\\n0      1  G3110   6415503905    75224362  +43.9496362  -092.3360701   \n1      1  G3110   5485217808    76814164  +35.7567464  -078.4604412   \n2      1  G3110  20213988329    56100755  +44.1951082  -102.9166120   \n3      1  G3110   8458679417  5127762552  +43.1480380  -077.5232575   \n4      2  G3110   1529622790   501704013  +26.4818607  -097.5947313   \n..   ...    ...          ...         ...          ...           ...   \n940    2  G3110   1687025357    18718207  +30.2695293  -092.8162205   \n941    2  G3110   1436120673    41487001  +41.3314552  -093.0938490   \n942    2  G3110  12512530061      554839  +33.7408411  -105.4498055   \n943    2  G3110   2142856004    12818652  +41.4273317  -078.6539366   \n944    2  G3110   1062066008    15393112  +33.6596700  -088.7824680   \n\n                                              geometry  \n0    POLYGON ((-92.67872 44.19552, -92.67852 44.195...  \n1    POLYGON ((-78.54641 36.02183, -78.54641 36.022...  \n2    POLYGON ((-103.45245 44.14077, -103.45247 44.1...  \n3    POLYGON ((-77.99729 43.13298, -77.99974 43.132...  \n4    POLYGON ((-97.87238 26.43353, -97.87528 26.433...  \n..                                                 ...  \n940  POLYGON ((-93.03074 30.27521, -93.03074 30.276...  \n941  POLYGON ((-93.32836 41.33487, -93.32835 41.339...  \n942  POLYGON ((-105.92550 33.93948, -105.92552 33.9...  \n943  POLYGON ((-78.95899 41.45269, -78.95899 41.452...  \n944  POLYGON ((-88.93160 33.75431, -88.93159 33.756...  \n\n[945 rows x 13 columns]\n    CSAFP CBSAFP                 NAME  \\\n0          27980  Kahului-Wailuku, HI   \n1          28180            Kapaa, HI   \n2          25900             Hilo, HI   \n3          26180         Honolulu, HI   \n4          20100            Dover, DE   \n..    ...    ...                  ...   \n947   188  38780         Portales, NM   \n948   434  42180     Santa Isabel, PR   \n949        33700          Modesto, CA   \n950        45340             Taos, NM   \n951   472  49700        Yuba City, CA   \n\n                                              NAMELSAD LSAD MEMI  MTFCC  \\\n0    Kahului-Wailuku, HI Micropolitan Statistical Area   M2    2  G3110   \n1              Kapaa, HI Micropolitan Statistical Area   M2    2  G3110   \n2               Hilo, HI Micropolitan Statistical Area   M2    2  G3110   \n3           Honolulu, HI Metropolitan Statistical Area   M1    1  G3110   \n4              Dover, DE Metropolitan Statistical Area   M1    1  G3110   \n..                                                 ...  ...  ...    ...   \n947         Portales, NM Micropolitan Statistical Area   M2    2  G3110   \n948     Santa Isabel, PR Micropolitan Statistical Area   M2    2  G3110   \n949          Modesto, CA Metropolitan Statistical Area   M1    1  G3110   \n950             Taos, NM Micropolitan Statistical Area   M2    2  G3110   \n951        Yuba City, CA Metropolitan Statistical Area   M1    1  G3110   \n\n    FUNCSTAT                                           geometry  \n0          S  MULTIPOLYGON (((-156.70541 20.82632, -156.7112...  \n1          S  MULTIPOLYGON (((-159.50367 21.83346, -159.5062...  \n2          S  POLYGON ((-154.92893 19.67360, -154.92026 19.6...  \n3          S  MULTIPOLYGON (((-157.63525 21.24683, -157.6340...  \n4          S  POLYGON ((-75.33236 39.26080, -75.32102 39.251...  \n..       ...                                                ...  \n947        S  POLYGON ((-103.62920 33.65637, -103.62928 33.6...  \n948        S  POLYGON ((-66.43498 17.99900, -66.43499 17.999...  \n949        S  POLYGON ((-121.04792 37.27817, -121.04793 37.2...  \n950        S  POLYGON ((-105.95632 36.36361, -105.95618 36.3...  \n951        S  POLYGON ((-121.48436 38.74658, -121.48437 38.7...  \n\n[952 rows x 9 columns]\n"
    }
   ],
   "source": [
    "# set up acs data\n",
    "resp = bq.query('''\n",
    "    SELECT DISTINCT do_date AS year\n",
    "    FROM `eosc410-project.data.acs_cbsa_*`\n",
    "    ORDER BY do_date ASC\n",
    "''')\n",
    "acs_years = [row[\"year\"] for row in resp]\n",
    "def load_geojson(y) -> gp.GeoDataFrame:\n",
    "    print('=> loading %s' % y)\n",
    "    geo = gp.read_file('../_data/tmp/acs_cbsa_%s/geojson.json' % y)\n",
    "    print('loaded %s' % y)\n",
    "    print(geo)\n",
    "    return geo\n",
    "acs_regions = [load_geojson(y) for y in acs_years]\n",
    "\n",
    "# take a peak at the geography of one region\n",
    "print(acs_regions[0])"
   ]
  },
  {
   "cell_type": "code",
   "execution_count": 46,
   "metadata": {
    "tags": [
     "outputPrepend",
     "outputPrepend"
    ]
   },
   "outputs": [
    {
     "output_type": "stream",
     "name": "stdout",
     "text": "Kahului-Wailuku, HI\n{\"type\": \"MultiPolygon\", \"coordinates\": [[[[-156.70540599999998, 20.82632], [-156.711227, 20.832228]...\n"
    }
   ],
   "source": [
    "# look at what our geojson looks like\n",
    "acs_regions_2007 = acs_regions[0]      # first year\n",
    "test_year = '2007'\n",
    "test_region = acs_regions_2007.loc[0]  # first region in this year\n",
    "test_region_name = test_region['NAME'] # this region has a name\n",
    "test_region_geo = test_region.geometry # this region has a geometry\n",
    "print(test_region_name)\n",
    "print(json.dumps(test_region_geo.__geo_interface__)[:100] + \"...\")"
   ]
  },
  {
   "cell_type": "code",
   "execution_count": 47,
   "metadata": {},
   "outputs": [
    {
     "output_type": "stream",
     "name": "stdout",
     "text": "Stations in region \"Kahului-Wailuku, HI\" in 2007:\nsite 9001 (Haleakala National Park, Kahului-Wailuku-Lahaina, HI)\nsite 0006 (KAIHOI ST AND KAIOLOHIA ST, Kahului-Wailuku-Lahaina, HI)\nsite 9000 (Haleakala National Park, HI 96768, Kahului-Wailuku-Lahaina, HI)\n"
    }
   ],
   "source": [
    "# for each year and acs region, we want to get associated station numbers\n",
    "# try with the test region: find all EPA points that fall within this region's geometry in that year\n",
    "resp = bq.query('''\n",
    "SELECT DISTINCT site_num, address, cbsa_name\n",
    "FROM `eosc410-project.data.epa_air_quality_annual` as epa\n",
    "WHERE\n",
    "  ST_WITHIN(ST_GEOGPOINT(epa.longitude, epa.latitude), ST_GEOGFROMGEOJSON('%s'))\n",
    "  AND year = %s\n",
    "''' % (json.dumps(test_region_geo.__geo_interface__), test_year))\n",
    "print('Stations in region \"%s\" in %s:' % (test_region_name, test_year))\n",
    "for row in resp:\n",
    "    print('site %s (%s, %s)' % (row['site_num'], row['address'], row['cbsa_name']))"
   ]
  },
  {
   "cell_type": "code",
   "execution_count": null,
   "metadata": {},
   "outputs": [],
   "source": [
    "# TODO: do this for all years, all regions"
   ]
  }
 ]
}