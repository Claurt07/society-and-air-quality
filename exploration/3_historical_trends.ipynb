{
 "nbformat": 4,
 "nbformat_minor": 2,
 "metadata": {
  "language_info": {
   "name": "python",
   "codemirror_mode": {
    "name": "ipython",
    "version": 3
   },
   "version": "3.7.4-final"
  },
  "orig_nbformat": 2,
  "file_extension": ".py",
  "mimetype": "text/x-python",
  "name": "python",
  "npconvert_exporter": "python",
  "pygments_lexer": "ipython3",
  "version": 3,
  "kernelspec": {
   "name": "python37464bitanaconda3virtualenv214083d9e99e48dbbb65188af8bf868a",
   "display_name": "Python 3.7.4 64-bit ('anaconda3': virtualenv)"
  }
 },
 "cells": [
  {
   "cell_type": "markdown",
   "metadata": {},
   "source": [
    "# 3. Historical Trends"
   ]
  },
  {
   "cell_type": "markdown",
   "metadata": {},
   "source": [
    "For each region, what kind of changes do we see over time?"
   ]
  },
  {
   "cell_type": "code",
   "execution_count": 2,
   "metadata": {},
   "outputs": [
    {
     "output_type": "stream",
     "name": "stdout",
     "text": "env: GOOGLE_APPLICATION_CREDENTIALS=../google_app_credentials.json\n"
    }
   ],
   "source": [
    "# set up path to app credentials - see exploration/README.md\n",
    "%env GOOGLE_APPLICATION_CREDENTIALS=../google_app_credentials.json\n",
    "\n",
    "# set up bigquery client\n",
    "from google.cloud import bigquery\n",
    "bq = bigquery.Client()"
   ]
  },
  {
   "cell_type": "code",
   "execution_count": 3,
   "metadata": {},
   "outputs": [],
   "source": [
    "# set up some dependencies\n",
    "import json, time, random, csv\n",
    "import geopandas as gp\n",
    "import pandas as pd\n",
    "import matplotlib.pyplot as plt\n",
    "import descartes # for plotting with geopanadas"
   ]
  },
  {
   "cell_type": "code",
   "execution_count": 4,
   "metadata": {},
   "outputs": [],
   "source": [
    "resp = bq.query('''\n",
    "    SELECT DISTINCT do_date AS year\n",
    "    FROM `eosc410-project.data.acs_cbsa_20*`\n",
    "    ORDER BY do_date ASC\n",
    "''')\n",
    "years = [row[\"year\"] for row in resp]"
   ]
  },
  {
   "cell_type": "markdown",
   "metadata": {},
   "source": [
    "## Air Quality Over Time"
   ]
  },
  {
   "cell_type": "code",
   "execution_count": 28,
   "metadata": {},
   "outputs": [],
   "source": [
    "def collect_measurements(year: str, epa: pd.DataFrame):\n",
    "    regions = epa['epa_site']\n",
    "    regions_query = ','.join(['\"%s\"' % r for r in regions])\n",
    "    # TODO: we need to thin down the collected measurements significantly\n",
    "    resp = bq.query('''\n",
    "        WITH query AS ( SELECT [ %s ] AS sites )\n",
    "        SELECT DISTINCT\n",
    "            CONCAT(epa.state_code, \".\", epa.county_code, \".\", epa.site_num) AS epa_site,\n",
    "            epa.parameter_code,\n",
    "            epa.sample_duration,\n",
    "            epa.arithmetic_mean,\n",
    "            epa.arithmetic_standard_dev,\n",
    "            epa.units_of_measure,\n",
    "            epa.metric_used\n",
    "        FROM\n",
    "            query, `eosc410-project.data.epa_air_quality_annual` AS epa\n",
    "        WHERE\n",
    "            epa.year = %s\n",
    "            AND CONCAT(epa.state_code, \".\", epa.county_code, \".\", epa.site_num) IN UNNEST(query.sites)\n",
    "    ''' % (regions_query, year))\n",
    "    return resp.to_dataframe()"
   ]
  },
  {
   "cell_type": "code",
   "execution_count": 29,
   "metadata": {},
   "outputs": [
    {
     "output_type": "stream",
     "name": "stdout",
     "text": "epa_site  parameter_code sample_duration  arithmetic_mean  \\\n0      16.001.0010           88111         24 HOUR         0.049383   \n1      16.001.0010           88388         24 HOUR         0.577274   \n2      16.001.0010           88375         24 HOUR         0.528522   \n3      16.001.0010           88165         24 HOUR         0.136442   \n4      16.001.0010           88154         24 HOUR         0.000107   \n...            ...             ...             ...              ...   \n74045  51.840.0002           81102         24 HOUR        18.032787   \n74046  24.510.0035           81102         24 HOUR        27.777778   \n74047  22.121.0001           81102         24 HOUR        31.000000   \n74048  22.121.0001           81102         24 HOUR        29.966667   \n74049  11.001.0041           81102         24 HOUR        19.827586   \n\n       arithmetic_standard_dev               units_of_measure      metric_used  \n0                     0.046137    Micrograms/cubic meter (LC)  Observed Values  \n1                     0.446153    Micrograms/cubic meter (LC)  Observed Values  \n2                     0.358767    Micrograms/cubic meter (LC)  Observed Values  \n3                     0.146767    Micrograms/cubic meter (LC)  Observed Values  \n4                     0.000383    Micrograms/cubic meter (LC)  Observed Values  \n...                        ...                            ...              ...  \n74045                 7.364254  Micrograms/cubic meter (25 C)       Daily Mean  \n74046                10.871201  Micrograms/cubic meter (25 C)       Daily Mean  \n74047                14.155775  Micrograms/cubic meter (25 C)       Daily Mean  \n74048                13.874702  Micrograms/cubic meter (25 C)       Daily Mean  \n74049                10.368877  Micrograms/cubic meter (25 C)       Daily Mean  \n\n[74050 rows x 7 columns]\n"
    }
   ],
   "source": [
    "# test on one year\n",
    "y = '2008'\n",
    "epa = pd.read_csv('../_data/epa_to_acs_cbsa/%s.csv' % y)\n",
    "print(collect_measurements(y, epa))"
   ]
  },
  {
   "cell_type": "code",
   "execution_count": 6,
   "metadata": {
    "tags": [
     "outputPrepend"
    ]
   },
   "outputs": [
    {
     "output_type": "stream",
     "name": "stdout",
     "text": "18795\n"
    }
   ],
   "source": [
    "# collect all records in a time series\n",
    "timeseries = pd.DataFrame()\n",
    "# for y in ['2007']:\n",
    "    # epa = pd.read_csv('../_data/epa_to_acs_cbsa/%s.csv' % y)\n",
    "    # TODO"
   ]
  },
  {
   "cell_type": "code",
   "execution_count": null,
   "metadata": {},
   "outputs": [],
   "source": []
  }
 ]
}