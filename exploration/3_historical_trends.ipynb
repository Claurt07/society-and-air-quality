{
 "nbformat": 4,
 "nbformat_minor": 2,
 "metadata": {
  "language_info": {
   "name": "python",
   "codemirror_mode": {
    "name": "ipython",
    "version": 3
   },
   "version": "3.7.4-final"
  },
  "orig_nbformat": 2,
  "file_extension": ".py",
  "mimetype": "text/x-python",
  "name": "python",
  "npconvert_exporter": "python",
  "pygments_lexer": "ipython3",
  "version": 3,
  "kernelspec": {
   "name": "python37464bitanaconda3virtualenv214083d9e99e48dbbb65188af8bf868a",
   "display_name": "Python 3.7.4 64-bit ('anaconda3': virtualenv)"
  }
 },
 "cells": [
  {
   "cell_type": "markdown",
   "metadata": {},
   "source": [
    "# 3. Historical Trends"
   ]
  },
  {
   "cell_type": "markdown",
   "metadata": {},
   "source": [
    "For each region, what kind of changes do we see over time?"
   ]
  },
  {
   "cell_type": "code",
   "execution_count": 2,
   "metadata": {},
   "outputs": [
    {
     "output_type": "stream",
     "name": "stdout",
     "text": "env: GOOGLE_APPLICATION_CREDENTIALS=../google_app_credentials.json\n"
    }
   ],
   "source": [
    "# set up path to app credentials - see exploration/README.md\n",
    "%env GOOGLE_APPLICATION_CREDENTIALS=../google_app_credentials.json\n",
    "\n",
    "# set up bigquery client\n",
    "from google.cloud import bigquery\n",
    "bq = bigquery.Client()"
   ]
  },
  {
   "cell_type": "code",
   "execution_count": 7,
   "metadata": {},
   "outputs": [],
   "source": [
    "# set up some dependencies\n",
    "import json, time, random, csv\n",
    "import geopandas as gp\n",
    "import pandas as pd\n",
    "import matplotlib.pyplot as plt\n",
    "import descartes # for plotting with geopanadas"
   ]
  },
  {
   "cell_type": "code",
   "execution_count": 10,
   "metadata": {},
   "outputs": [],
   "source": [
    "resp = bq.query('''\n",
    "    SELECT DISTINCT do_date AS year\n",
    "    FROM `eosc410-project.data.acs_cbsa_20*`\n",
    "    ORDER BY do_date ASC\n",
    "''')\n",
    "years = [row[\"year\"] for row in resp]"
   ]
  },
  {
   "cell_type": "markdown",
   "metadata": {},
   "source": [
    "## Air Quality Over Time"
   ]
  },
  {
   "cell_type": "markdown",
   "metadata": {},
   "source": [
    "The EPA data provides a wide variety measurements for interpreting air quality, taken with various methods and timescales. We are interested in the following measurements in particular, which we will use in this exploration:\n",
    "\n",
    "* PM2.5 (https://aqs.epa.gov/aqsweb/documents/codetables/methods_speciation.html)\n",
    "    * Acceptable PM2.5 AQI & Speciation Mass (88502) - note AQI is air quality index\n",
    "* Meteorological (https://aqs.epa.gov/aqsweb/documents/codetables/methods_met.html):\n",
    "    * ~Ammoia (62604) in rain~ - unfortunately this does not seem to be collected by any stations in the EPA dataset\n",
    "    * Average Ambient Temperature (68105)\n",
    "\n",
    "Since availability of data at each station varies significantly, we'll avoid taking too many features.\n",
    "\n",
    "TODO: continue assessing what features are available"
   ]
  },
  {
   "cell_type": "code",
   "execution_count": 46,
   "metadata": {},
   "outputs": [],
   "source": [
    "'''\n",
    "Utility function to collect relevant measurements from each station\n",
    "'''\n",
    "def collect_measurements(year: str, epa: pd.DataFrame, parameters = [88502, 68105]):\n",
    "    regions = epa['epa_site']\n",
    "    regions_query = ','.join(['\"%s\"' % r for r in regions])\n",
    "    parameters_query = ','.join([str(p) for p in parameters])\n",
    "    resp = bq.query('''\n",
    "        WITH query AS ( SELECT [ %s ] AS sites, [ %s ] AS parameters ),\n",
    "            filtered AS (\n",
    "            SELECT\n",
    "                CONCAT(epa.state_code, \".\", epa.county_code, \".\", epa.site_num) AS epa_site,\n",
    "                CONCAT(epa.state_code, \".\", epa.county_code, \".\", epa.site_num, \".\", epa.parameter_code) AS epa_measurement,\n",
    "                epa.arithmetic_mean,\n",
    "                epa.arithmetic_standard_dev,\n",
    "                epa.units_of_measure\n",
    "            FROM\n",
    "                query, `eosc410-project.data.epa_air_quality_annual` AS epa\n",
    "            WHERE\n",
    "                epa.year = %s                                                                              # one year at a time\n",
    "                AND epa.parameter_code IN UNNEST(query.parameters)                                         # only relevant parameters\n",
    "                AND (epa.sample_duration = '24 HOUR' OR epa.sample_duration = '24-HR BLK AVG')             # 1hr is too granular\n",
    "                AND CONCAT(epa.state_code, \".\", epa.county_code, \".\", epa.site_num) IN UNNEST(query.sites) # relevant sites only\n",
    "        )\n",
    "\n",
    "        SELECT\n",
    "            filtered.epa_measurement,\n",
    "            ANY_VALUE(filtered.epa_site) AS epa_site,\n",
    "            AVG(filtered.arithmetic_mean) AS mean,\n",
    "            AVG(filtered.arithmetic_standard_dev) AS stdev,\n",
    "            ANY_VALUE(filtered.units_of_measure) AS units\n",
    "        FROM\n",
    "            filtered\n",
    "        GROUP BY\n",
    "            filtered.epa_measurement\n",
    "        ORDER BY\n",
    "            epa_site\n",
    "    ''' % (regions_query, parameters_query, year))\n",
    "    return resp.to_dataframe()"
   ]
  },
  {
   "cell_type": "code",
   "execution_count": 47,
   "metadata": {},
   "outputs": [],
   "source": [
    "# test on one year\n",
    "y = '2007'\n",
    "measurements = collect_measurements(y, pd.read_csv('../_data/epa_to_acs_cbsa/%s.csv' % y))"
   ]
  },
  {
   "cell_type": "code",
   "execution_count": 50,
   "metadata": {},
   "outputs": [
    {
     "output_type": "stream",
     "name": "stdout",
     "text": "sites with measurements: 1137\nmeasurement types: 1461\nmeasurement units: 2\n"
    }
   ],
   "source": [
    "print('sites with measurements:', len(measurements['epa_site'].unique()))\n",
    "print('measurement types:', len(measurements['epa_measurement'].unique()))\n",
    "print('measurement units:', len(measurements['units'].unique()))"
   ]
  },
  {
   "cell_type": "code",
   "execution_count": 28,
   "metadata": {},
   "outputs": [
    {
     "output_type": "error",
     "ename": "SyntaxError",
     "evalue": "invalid syntax (<ipython-input-28-6db22e7a1e86>, line 6)",
     "traceback": [
      "\u001b[0;36m  File \u001b[0;32m\"<ipython-input-28-6db22e7a1e86>\"\u001b[0;36m, line \u001b[0;32m6\u001b[0m\n\u001b[0;31m    sites = measurements_2007[counts > 1].groupby(['epa_site', counts])s\u001b[0m\n\u001b[0m                                                                       ^\u001b[0m\n\u001b[0;31mSyntaxError\u001b[0m\u001b[0;31m:\u001b[0m invalid syntax\n"
     ]
    }
   ],
   "source": [
    "# query 2007 measurements for some deets\n",
    "print(measurements_2007)\n",
    "print('distinct parameters', measurements_2007['parameter_code'].unique())\n",
    "print('distinct sample durations:', measurements_2007['sample_duration'].unique())\n",
    "counts = measurements_2007[measurements_2007.parameter_code==88502].groupby('epa_site')['sample_duration'].transform('nunique').rename('Unique durations')\n",
    "sites = measurements_2007[counts > 1].groupby(['epa_site', counts])s\n",
    "print('stations with multiple 88502 measurements', sites)"
   ]
  },
  {
   "cell_type": "code",
   "execution_count": 6,
   "metadata": {
    "tags": [
     "outputPrepend"
    ]
   },
   "outputs": [
    {
     "output_type": "stream",
     "name": "stdout",
     "text": "18795\n"
    }
   ],
   "source": [
    "# collect all records in a time series\n",
    "timeseries = pd.DataFrame()\n",
    "# for y in ['2007']:\n",
    "    # epa = pd.read_csv('../_data/epa_to_acs_cbsa/%s.csv' % y)\n",
    "    # TODO\n",
    "    # .append({'Name' : 'Sahil' , 'Age' : 22} , ignore_index=True)"
   ]
  },
  {
   "cell_type": "code",
   "execution_count": null,
   "metadata": {},
   "outputs": [],
   "source": []
  }
 ]
}