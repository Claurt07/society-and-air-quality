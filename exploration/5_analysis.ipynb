{
 "nbformat": 4,
 "nbformat_minor": 2,
 "metadata": {
  "language_info": {
   "name": "python",
   "codemirror_mode": {
    "name": "ipython",
    "version": 3
   },
   "version": "3.7.4-final"
  },
  "orig_nbformat": 2,
  "file_extension": ".py",
  "mimetype": "text/x-python",
  "name": "python",
  "npconvert_exporter": "python",
  "pygments_lexer": "ipython3",
  "version": 3,
  "kernelspec": {
   "name": "python37464bitanaconda3virtualenv214083d9e99e48dbbb65188af8bf868a",
   "display_name": "Python 3.7.4 64-bit ('anaconda3': virtualenv)"
  }
 },
 "cells": [
  {
   "cell_type": "markdown",
   "metadata": {},
   "source": [
    "# 5. Analysis\n",
    "\n",
    "Time for some machine learning!"
   ]
  },
  {
   "cell_type": "code",
   "execution_count": 1,
   "metadata": {},
   "outputs": [],
   "source": [
    "# set up some dependencies\n",
    "import json, time, random, csv\n",
    "import geopandas as gp\n",
    "import pandas as pd\n",
    "import matplotlib.pyplot as plt\n",
    "import descartes # for plotting with geopanadas"
   ]
  },
  {
   "cell_type": "code",
   "execution_count": 2,
   "metadata": {},
   "outputs": [
    {
     "output_type": "stream",
     "name": "stdout",
     "text": "env: GOOGLE_APPLICATION_CREDENTIALS=../google_app_credentials.json\n"
    }
   ],
   "source": [
    "# set up path to app credentials - see exploration/README.md\n",
    "%env GOOGLE_APPLICATION_CREDENTIALS=../google_app_credentials.json\n",
    "\n",
    "# set up bigquery client\n",
    "from google.cloud import bigquery\n",
    "bq = bigquery.Client()"
   ]
  },
  {
   "cell_type": "code",
   "execution_count": 3,
   "metadata": {},
   "outputs": [],
   "source": [
    "# grab valid years and check BigQuery connection\n",
    "resp = bq.query('''\n",
    "    SELECT DISTINCT do_date AS year\n",
    "    FROM `eosc410-project.data.acs_cbsa_20*`\n",
    "    ORDER BY do_date ASC\n",
    "''')\n",
    "years = [row[\"year\"] for row in resp]"
   ]
  },
  {
   "cell_type": "code",
   "execution_count": 7,
   "metadata": {},
   "outputs": [],
   "source": [
    "'''\n",
    "Gets the GeoID from the combined ID\n",
    "'''\n",
    "def combined_id_to_geoid(combined_id: str) -> str:\n",
    "    parts = combined_id.split('.')\n",
    "    if len(parts) < 1:\n",
    "        return ''\n",
    "    return parts[0]"
   ]
  },
  {
   "cell_type": "code",
   "execution_count": 8,
   "metadata": {},
   "outputs": [
    {
     "output_type": "stream",
     "name": "stdout",
     "text": "==== ACS Aggregates\n\nUnnamed: 0                                        int64\n10140.epa.commute_10_29_mins                    float64\n10140.epa.commute_30_59_mins                    float64\n10140.epa.commute_over_60_mins                  float64\n10140.epa.commute_under_10_mins                 float64\n                                                 ...   \n43220.epa.rent_over_50_percent                  float64\n43220.epa.rent_under_25_percent                 float64\n43220.epa.some_college_and_associates_degree    float64\n43220.epa.total_pop                             float64\n43220.epa.walked_to_work                        float64\nLength: 15598, dtype: object \n\nUnnamed: 0       int64\ncombined_id     object\n2007           float64\n2008           float64\n2009           float64\n2010           float64\n2011           float64\n2012           float64\n2013           float64\n2014           float64\n2015           float64\n2016           float64\n2017           float64\n2018           float64\ndtype: object \n\n==== EPA Aggregates\n\nUnnamed: 0                             int64\n10100.epa.46.013.0003.68105.mean     float64\n10100.epa.46.013.0003.68105.stdev    float64\n10140.epa.53.027.0008.88502.mean     float64\n10140.epa.53.027.0008.88502.stdev    float64\n                                      ...   \n46060.epa.04.019.1034.88502.stdev    float64\n46060.epa.04.019.1113.88502.mean     float64\n46060.epa.04.019.1113.88502.stdev    float64\n46860.epa.49.047.9000.88502.mean     float64\n46860.epa.49.047.9000.88502.stdev    float64\nLength: 4442, dtype: object \n\nUnnamed: 0       int64\ncombined_id     object\n2007.mean      float64\n2007.stdev     float64\n2008.mean      float64\n2008.stdev     float64\n2009.mean      float64\n2009.stdev     float64\n2010.mean      float64\n2010.stdev     float64\n2011.mean      float64\n2011.stdev     float64\n2012.mean      float64\n2012.stdev     float64\n2013.mean      float64\n2013.stdev     float64\n2014.mean      float64\n2014.stdev     float64\n2015.mean      float64\n2015.stdev     float64\n2016.mean      float64\n2016.stdev     float64\n2017.mean      float64\n2017.stdev     float64\n2018.mean      float64\n2018.stdev     float64\ndtype: object \n\n"
    }
   ],
   "source": [
    "# load up aggregated data - refer to _data/acs/README.md and _data/epa/README.md\n",
    "acs_ts_flat = pd.read_csv('../_data/acs/timeseries_flat.csv')\n",
    "acs_ts_vert = pd.read_csv('../_data/acs/timeseries_vert.csv')\n",
    "epa_ts_flat = pd.read_csv('../_data/epa/timeseries_flat.csv')\n",
    "epa_ts_vert = pd.read_csv('../_data/epa/timeseries_vert.csv')\n",
    "\n",
    "# take a peak at what's up\n",
    "print('==== ACS Aggregates\\n')\n",
    "print(acs_ts_flat.dtypes, '\\n')\n",
    "print(acs_ts_vert.dtypes, '\\n')\n",
    "print('==== EPA Aggregates\\n')\n",
    "print(epa_ts_flat.dtypes, '\\n')\n",
    "print(epa_ts_vert.dtypes, '\\n')"
   ]
  },
  {
   "cell_type": "code",
   "execution_count": null,
   "metadata": {},
   "outputs": [],
   "source": [
    "# TODO"
   ]
  }
 ]
}