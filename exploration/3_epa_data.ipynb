{
 "nbformat": 4,
 "nbformat_minor": 2,
 "metadata": {
  "language_info": {
   "name": "python",
   "codemirror_mode": {
    "name": "ipython",
    "version": 3
   },
   "version": "3.7.4-final"
  },
  "orig_nbformat": 2,
  "file_extension": ".py",
  "mimetype": "text/x-python",
  "name": "python",
  "npconvert_exporter": "python",
  "pygments_lexer": "ipython3",
  "version": 3,
  "kernelspec": {
   "name": "python37464bitanaconda3virtualenv214083d9e99e48dbbb65188af8bf868a",
   "display_name": "Python 3.7.4 64-bit ('anaconda3': virtualenv)"
  }
 },
 "cells": [
  {
   "cell_type": "markdown",
   "metadata": {},
   "source": [
    "# 3. EPA Data"
   ],
   "execution_count": null,
   "outputs": []
  },
  {
   "cell_type": "markdown",
   "metadata": {},
   "source": [
    "Format data into some relevant CSV's for later analysis"
   ],
   "execution_count": null,
   "outputs": []
  },
  {
   "cell_type": "code",
   "execution_count": null,
   "metadata": {},
   "outputs": [],
   "source": [
    "# set up path to app credentials - see exploration/README.md\n",
    "%env GOOGLE_APPLICATION_CREDENTIALS=../google_app_credentials.json\n",
    "\n",
    "# set up bigquery client\n",
    "from google.cloud import bigquery\n",
    "bq = bigquery.Client()"
   ]
  },
  {
   "cell_type": "code",
   "execution_count": null,
   "metadata": {},
   "outputs": [],
   "source": [
    "# set up some dependencies\n",
    "import json, time, random, csv\n",
    "import geopandas as gp\n",
    "import pandas as pd\n",
    "import matplotlib.pyplot as plt\n",
    "import descartes # for plotting with geopanadas"
   ]
  },
  {
   "cell_type": "code",
   "execution_count": null,
   "metadata": {},
   "outputs": [],
   "source": [
    "resp = bq.query('''\n",
    "    SELECT DISTINCT do_date AS year\n",
    "    FROM `eosc410-project.data.acs_cbsa_20*`\n",
    "    ORDER BY do_date ASC\n",
    "''')\n",
    "years = [row[\"year\"] for row in resp]"
   ]
  },
  {
   "cell_type": "markdown",
   "metadata": {},
   "source": [
    "## Selecting Metrics for Air Quality"
   ],
   "execution_count": null,
   "outputs": []
  },
  {
   "cell_type": "markdown",
   "metadata": {},
   "source": [
    "The EPA data provides a wide variety measurements for interpreting air quality, taken with various methods and timescales. We are interested in the following measurements in particular, which we will use in this exploration:\n",
    "\n",
    "* PM2.5 (https://aqs.epa.gov/aqsweb/documents/codetables/methods_speciation.html)\n",
    "    * Acceptable PM2.5 AQI & Speciation Mass (88502) - note AQI is air quality index\n",
    "* Meteorological (https://aqs.epa.gov/aqsweb/documents/codetables/methods_met.html):\n",
    "    * ~Ammoia (62604) in rain~ - unfortunately this does not seem to be collected by any stations in the EPA dataset\n",
    "    * Average Ambient Temperature (68105)\n",
    "\n",
    "Since availability of data at each station varies significantly, we'll avoid taking too many features.\n",
    "\n",
    "TODO: continue assessing what features are available"
   ],
   "execution_count": null,
   "outputs": []
  },
  {
   "cell_type": "code",
   "execution_count": 196,
   "metadata": {},
   "outputs": [],
   "source": [
    "'''\n",
    "Utility function to collect relevant measurements from each station\n",
    "'''\n",
    "def collect_measurements(year: str, epa: pd.DataFrame, parameters = [88502, 68105]) -> pd.DataFrame:\n",
    "    regions = epa['epa_site']\n",
    "    regions_query = ','.join(['\"%s\"' % r for r in regions])\n",
    "    parameters_query = ','.join([str(p) for p in parameters])\n",
    "    resp = bq.query('''\n",
    "        WITH query AS ( SELECT [ %s ] AS sites, [ %s ] AS parameters ),\n",
    "            filtered AS (\n",
    "            SELECT\n",
    "                CONCAT(epa.state_code, \".\", epa.county_code, \".\", epa.site_num) AS epa_site,\n",
    "                CONCAT(epa.state_code, \".\", epa.county_code, \".\", epa.site_num, \".\", epa.parameter_code) AS epa_measurement,\n",
    "                epa.arithmetic_mean,\n",
    "                epa.arithmetic_standard_dev,\n",
    "                epa.units_of_measure\n",
    "            FROM\n",
    "                query, `eosc410-project.data.epa_air_quality_annual` AS epa\n",
    "            WHERE\n",
    "                epa.year = %s                                                                              # one year at a time\n",
    "                AND epa.parameter_code IN UNNEST(query.parameters)                                         # only relevant parameters\n",
    "                AND (epa.sample_duration = '24 HOUR' OR epa.sample_duration = '24-HR BLK AVG')             # 1hr is too granular\n",
    "                AND CONCAT(epa.state_code, \".\", epa.county_code, \".\", epa.site_num) IN UNNEST(query.sites) # relevant sites only\n",
    "        )\n",
    "\n",
    "        SELECT\n",
    "            filtered.epa_measurement,\n",
    "            ANY_VALUE(filtered.epa_site) AS epa_site,\n",
    "            AVG(filtered.arithmetic_mean) AS mean,\n",
    "            AVG(filtered.arithmetic_standard_dev) AS stdev,\n",
    "            ANY_VALUE(filtered.units_of_measure) AS units\n",
    "        FROM\n",
    "            filtered\n",
    "        GROUP BY\n",
    "            filtered.epa_measurement\n",
    "        ORDER BY\n",
    "            epa_site\n",
    "    ''' % (regions_query, parameters_query, year))\n",
    "    measures = resp.to_dataframe()\n",
    "    index = epa[['epa_site', 'acs_geoid']].astype(str)\n",
    "    merged = measures.merge(index, left_on='epa_site', right_on='epa_site')\n",
    "    def make_combined_id(r):\n",
    "        return '%s.epa.%s' % (r['acs_geoid'], r['epa_measurement'])\n",
    "    merged['combined_id'] = merged.apply(lambda r: make_combined_id(r), axis=1)\n",
    "    return merged"
   ]
  },
  {
   "cell_type": "code",
   "execution_count": 197,
   "metadata": {},
   "outputs": [],
   "source": [
    "# test on one year\n",
    "y = '2018'\n",
    "measurements = collect_measurements(y, pd.read_csv('../_data/epa_to_acs_cbsa/%s.csv' % y))"
   ]
  },
  {
   "cell_type": "code",
   "execution_count": 199,
   "metadata": {},
   "outputs": [
    {
     "output_type": "stream",
     "name": "stdout",
     "text": "epa_measurement     object\nepa_site            object\nmean               float64\nstdev              float64\nunits               object\nacs_geoid           object\ncombined_id         object\ndtype: object\n     epa_measurement     epa_site       mean     stdev  \\\n0  01.055.0010.88502  01.055.0010  10.339130  5.738066   \n1  01.073.0023.88502  01.073.0023   8.746729  4.327083   \n2  01.073.0023.68105  01.073.0023  18.580149  8.734221   \n3  01.073.1005.88502  01.073.1005   9.015773  3.956376   \n4  01.073.1005.68105  01.073.1005  18.362618  8.386037   \n\n                         units acs_geoid                  combined_id  \n0  Micrograms/cubic meter (LC)     23460  23460.epa.01.055.0010.88502  \n1  Micrograms/cubic meter (LC)     13820  13820.epa.01.073.0023.88502  \n2           Degrees Centigrade     13820  13820.epa.01.073.0023.68105  \n3  Micrograms/cubic meter (LC)     13820  13820.epa.01.073.1005.88502  \n4           Degrees Centigrade     13820  13820.epa.01.073.1005.68105  \n\nsites with measurements: 750\nmeasurement types: 841\nmeasurement units: 2\nEmpty DataFrame\nColumns: [epa_measurement, epa_site, mean, stdev, units, acs_geoid, combined_id]\nIndex: []\n0\n"
    }
   ],
   "source": [
    "print(measurements.dtypes)\n",
    "print(measurements.head())\n",
    "print('\\nsites with measurements:', len(measurements['epa_site'].unique()))\n",
    "print('measurement types:', len(measurements['epa_measurement'].unique()))\n",
    "print('measurement units:', len(measurements['units'].unique()))\n",
    "rows = measurements[measurements.combined_id == '19300.epa.01.003.0010.68105']\n",
    "print(rows)\n",
    "print(len(rows))"
   ]
  },
  {
   "cell_type": "code",
   "execution_count": null,
   "metadata": {},
   "outputs": [],
   "source": [
    "# query 2007 measurements for some deets\n",
    "print(measurements_2007)\n",
    "print('distinct parameters', measurements_2007['parameter_code'].unique())\n",
    "print('distinct sample durations:', measurements_2007['sample_duration'].unique())\n",
    "counts = measurements_2007[measurements_2007.parameter_code==88502].groupby('epa_site')['sample_duration'].transform('nunique').rename('Unique durations')\n",
    "sites = measurements_2007[counts > 1].groupby(['epa_site', counts])s\n",
    "print('stations with multiple 88502 measurements', sites)"
   ]
  },
  {
   "cell_type": "code",
   "execution_count": 201,
   "metadata": {
    "tags": [
     "outputPrepend",
     "outputPrepend",
     "outputPrepend",
     "outputPrepend",
     "outputPrepend",
     "outputPrepend",
     "outputPrepend",
     "outputPrepend",
     "outputPrepend",
     "outputPrepend",
     "outputPrepend",
     "outputPrepend",
     "outputPrepend",
     "outputPrepend",
     "outputPrepend",
     "outputPrepend",
     "outputPrepend",
     "outputPrepend",
     "outputPrepend",
     "outputPrepend",
     "outputPrepend",
     "outputPrepend",
     "outputPrepend",
     "outputPrepend",
     "outputPrepend",
     "outputPrepend",
     "outputPrepend",
     "outputPrepend",
     "outputPrepend",
     "outputPrepend",
     "outputPrepend",
     "outputPrepend",
     "outputPrepend",
     "outputPrepend",
     "outputPrepend",
     "outputPrepend",
     "outputPrepend",
     "outputPrepend",
     "outputPrepend",
     "outputPrepend",
     "outputPrepend"
    ]
   },
   "outputs": [
    {
     "output_type": "stream",
     "name": "stdout",
     "text": "2007: processing\n2008: processing\n2009: processing\n2010: processing\n2011: processing\n2012: processing\n2013: processing\n2014: processing\n2015: processing\n2016: processing\n2017: processing\n2018: processing\nexporting...\ndone\n"
    }
   ],
   "source": [
    "timeseries_flat = pd.DataFrame()\n",
    "timeseries_vert = pd.DataFrame(columns=['combined_id'])\n",
    "\n",
    "for y in years:\n",
    "    print('%s: processing' % y)\n",
    "\n",
    "    # load data\n",
    "    epa = pd.read_csv('../_data/epa_to_acs_cbsa/%s.csv' % y)\n",
    "    ms = collect_measurements(y, epa)\n",
    "\n",
    "    # setup\n",
    "    flat_row = {'year': y}\n",
    "    assigned = []\n",
    "    def get_row_val(id, col):\n",
    "        rows = ms[ms['combined_id'] == id]\n",
    "        if len(rows) != 1:\n",
    "            return None\n",
    "        assigned.append(id)\n",
    "        return rows[col].iloc[0]\n",
    "    if len(timeseries_vert) > 0:\n",
    "        timeseries_vert['%s.mean' % y] = timeseries_vert.apply(lambda r: get_row_val(r['combined_id'], 'mean'), axis=1)\n",
    "        timeseries_vert['%s.stdev' % y] = timeseries_vert.apply(lambda r: get_row_val(r['combined_id'], 'stdev'), axis=1)\n",
    "\n",
    "    # do iteration\n",
    "    for index, row in ms.iterrows():\n",
    "        id = row['combined_id']\n",
    "        mean = row['mean']\n",
    "        stdev = row['stdev']\n",
    "\n",
    "        flat_row['%s.mean' % id] = mean\n",
    "        flat_row['%s.stdev' % id] = stdev\n",
    "\n",
    "        if id not in assigned:\n",
    "            timeseries_vert = timeseries_vert.append({\n",
    "                'combined_id': id,\n",
    "                '%s.mean' % y: mean,\n",
    "                '%s.stdev' % y: stdev,\n",
    "            }, ignore_index=True)\n",
    "\n",
    "    timeseries_flat = timeseries_flat.append(flat_row, ignore_index=True)\n",
    "\n",
    "print('exporting...')\n",
    "timeseries_flat.to_csv('../_data/epa/timeseries_flat.csv')\n",
    "timeseries_vert.to_csv('../_data/epa/timeseries_vert.csv')\n",
    "print('done')"
   ]
  }
 ]
}